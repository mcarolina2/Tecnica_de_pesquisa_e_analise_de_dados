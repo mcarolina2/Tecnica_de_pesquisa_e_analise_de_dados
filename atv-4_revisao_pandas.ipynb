{
 "cells": [
  {
   "cell_type": "markdown",
   "metadata": {},
   "source": [
    "### Atividade De Revisão Da Biblioteca Pandas\n",
    "+ É a biblioteca python utilizada para manipular e analisar dados \n",
    "+ susas principais estruturas são : series(uma coluna do dataframe) e dataframe(um dicionario python de listas)"
   ]
  },
  {
   "cell_type": "code",
   "execution_count": 2,
   "metadata": {},
   "outputs": [],
   "source": [
    "# Iniciando \n",
    "import pandas as pd"
   ]
  },
  {
   "cell_type": "code",
   "execution_count": 3,
   "metadata": {},
   "outputs": [
    {
     "data": {
      "text/plain": [
       "A    1\n",
       "B    2\n",
       "C    3\n",
       "D    4\n",
       "E    5\n",
       "F    6\n",
       "dtype: int64"
      ]
     },
     "execution_count": 3,
     "metadata": {},
     "output_type": "execute_result"
    }
   ],
   "source": [
    "# criando um series\n",
    "data = [1,2,3,4,5,6]\n",
    "index = [\"A\", \"B\", \"C\", \"D\", \"E\", \"F\"]\n",
    "series = pd.Series(data, index=index)\n",
    "series"
   ]
  },
  {
   "cell_type": "code",
   "execution_count": 4,
   "metadata": {},
   "outputs": [
    {
     "data": {
      "text/html": [
       "<div>\n",
       "<style scoped>\n",
       "    .dataframe tbody tr th:only-of-type {\n",
       "        vertical-align: middle;\n",
       "    }\n",
       "\n",
       "    .dataframe tbody tr th {\n",
       "        vertical-align: top;\n",
       "    }\n",
       "\n",
       "    .dataframe thead th {\n",
       "        text-align: right;\n",
       "    }\n",
       "</style>\n",
       "<table border=\"1\" class=\"dataframe\">\n",
       "  <thead>\n",
       "    <tr style=\"text-align: right;\">\n",
       "      <th></th>\n",
       "      <th>col_numeros_1</th>\n",
       "      <th>col_numeros_2</th>\n",
       "    </tr>\n",
       "  </thead>\n",
       "  <tbody>\n",
       "    <tr>\n",
       "      <th>0</th>\n",
       "      <td>1</td>\n",
       "      <td>4</td>\n",
       "    </tr>\n",
       "    <tr>\n",
       "      <th>1</th>\n",
       "      <td>2</td>\n",
       "      <td>5</td>\n",
       "    </tr>\n",
       "    <tr>\n",
       "      <th>2</th>\n",
       "      <td>3</td>\n",
       "      <td>6</td>\n",
       "    </tr>\n",
       "  </tbody>\n",
       "</table>\n",
       "</div>"
      ],
      "text/plain": [
       "   col_numeros_1  col_numeros_2\n",
       "0              1              4\n",
       "1              2              5\n",
       "2              3              6"
      ]
     },
     "execution_count": 4,
     "metadata": {},
     "output_type": "execute_result"
    }
   ],
   "source": [
    "# Criando um data fraame\n",
    "# perceba que de fato é um dicionário de listas\n",
    "data = {\"col_numeros_1\": [1,2,3], \"col_numeros_2\": [4,5,6]}\n",
    "df = pd.DataFrame(data)\n",
    "df"
   ]
  },
  {
   "cell_type": "markdown",
   "metadata": {},
   "source": [
    "##### Inspeção básico de um objeto Data Frame"
   ]
  },
  {
   "cell_type": "code",
   "execution_count": 9,
   "metadata": {},
   "outputs": [
    {
     "data": {
      "text/plain": [
       "<bound method NDFrame.describe of    col_numeros_1  col_numeros_2\n",
       "0              1              4\n",
       "1              2              5\n",
       "2              3              6>"
      ]
     },
     "execution_count": 9,
     "metadata": {},
     "output_type": "execute_result"
    }
   ],
   "source": [
    "# descrição \n",
    "df.describe"
   ]
  },
  {
   "cell_type": "code",
   "execution_count": 5,
   "metadata": {},
   "outputs": [
    {
     "data": {
      "text/plain": [
       "col_numeros_1    int64\n",
       "col_numeros_2    int64\n",
       "dtype: object"
      ]
     },
     "execution_count": 5,
     "metadata": {},
     "output_type": "execute_result"
    }
   ],
   "source": [
    "# tipagem da coluna \n",
    "df.dtypes"
   ]
  },
  {
   "cell_type": "code",
   "execution_count": 6,
   "metadata": {},
   "outputs": [
    {
     "data": {
      "text/plain": [
       "Index(['col_numeros_1', 'col_numeros_2'], dtype='object')"
      ]
     },
     "execution_count": 6,
     "metadata": {},
     "output_type": "execute_result"
    }
   ],
   "source": [
    "#nome das colunas\n",
    "df.columns"
   ]
  },
  {
   "cell_type": "code",
   "execution_count": 7,
   "metadata": {},
   "outputs": [
    {
     "data": {
      "text/plain": [
       "(3, 2)"
      ]
     },
     "execution_count": 7,
     "metadata": {},
     "output_type": "execute_result"
    }
   ],
   "source": [
    "#formato do data frame\n",
    "df.shape"
   ]
  },
  {
   "cell_type": "code",
   "execution_count": 8,
   "metadata": {},
   "outputs": [
    {
     "data": {
      "text/plain": [
       "<bound method DataFrame.info of    col_numeros_1  col_numeros_2\n",
       "0              1              4\n",
       "1              2              5\n",
       "2              3              6>"
      ]
     },
     "execution_count": 8,
     "metadata": {},
     "output_type": "execute_result"
    }
   ],
   "source": [
    "# sumario de informacoes do data frame\n",
    "df.info\n"
   ]
  },
  {
   "cell_type": "markdown",
   "metadata": {},
   "source": [
    "#### Explorando algumas linhas da planilha de dados no pandas\n",
    "* vamos agora fazer a exploração de arquivos csv"
   ]
  },
  {
   "cell_type": "code",
   "execution_count": 12,
   "metadata": {},
   "outputs": [
    {
     "data": {
      "text/html": [
       "<div>\n",
       "<style scoped>\n",
       "    .dataframe tbody tr th:only-of-type {\n",
       "        vertical-align: middle;\n",
       "    }\n",
       "\n",
       "    .dataframe tbody tr th {\n",
       "        vertical-align: top;\n",
       "    }\n",
       "\n",
       "    .dataframe thead th {\n",
       "        text-align: right;\n",
       "    }\n",
       "</style>\n",
       "<table border=\"1\" class=\"dataframe\">\n",
       "  <thead>\n",
       "    <tr style=\"text-align: right;\">\n",
       "      <th></th>\n",
       "      <th>Date</th>\n",
       "      <th>Open</th>\n",
       "      <th>High</th>\n",
       "      <th>Low</th>\n",
       "      <th>Close</th>\n",
       "      <th>Volume</th>\n",
       "      <th>Adj Close</th>\n",
       "    </tr>\n",
       "  </thead>\n",
       "  <tbody>\n",
       "    <tr>\n",
       "      <th>0</th>\n",
       "      <td>2016-09-23</td>\n",
       "      <td>58992.0</td>\n",
       "      <td>59131.0</td>\n",
       "      <td>58409.0</td>\n",
       "      <td>58697.0</td>\n",
       "      <td>2809900</td>\n",
       "      <td>58697.0</td>\n",
       "    </tr>\n",
       "    <tr>\n",
       "      <th>1</th>\n",
       "      <td>2016-09-22</td>\n",
       "      <td>58408.0</td>\n",
       "      <td>59462.0</td>\n",
       "      <td>58408.0</td>\n",
       "      <td>58994.0</td>\n",
       "      <td>3365300</td>\n",
       "      <td>58994.0</td>\n",
       "    </tr>\n",
       "    <tr>\n",
       "      <th>2</th>\n",
       "      <td>2016-09-21</td>\n",
       "      <td>57736.0</td>\n",
       "      <td>58575.0</td>\n",
       "      <td>57326.0</td>\n",
       "      <td>58394.0</td>\n",
       "      <td>3889700</td>\n",
       "      <td>58394.0</td>\n",
       "    </tr>\n",
       "    <tr>\n",
       "      <th>3</th>\n",
       "      <td>2016-09-20</td>\n",
       "      <td>57356.0</td>\n",
       "      <td>57902.0</td>\n",
       "      <td>57356.0</td>\n",
       "      <td>57736.0</td>\n",
       "      <td>3001000</td>\n",
       "      <td>57736.0</td>\n",
       "    </tr>\n",
       "    <tr>\n",
       "      <th>4</th>\n",
       "      <td>2016-09-19</td>\n",
       "      <td>57083.0</td>\n",
       "      <td>58025.0</td>\n",
       "      <td>57083.0</td>\n",
       "      <td>57350.0</td>\n",
       "      <td>2691100</td>\n",
       "      <td>57350.0</td>\n",
       "    </tr>\n",
       "    <tr>\n",
       "      <th>...</th>\n",
       "      <td>...</td>\n",
       "      <td>...</td>\n",
       "      <td>...</td>\n",
       "      <td>...</td>\n",
       "      <td>...</td>\n",
       "      <td>...</td>\n",
       "      <td>...</td>\n",
       "    </tr>\n",
       "    <tr>\n",
       "      <th>4648</th>\n",
       "      <td>1998-01-09</td>\n",
       "      <td>9656.0</td>\n",
       "      <td>9656.0</td>\n",
       "      <td>9118.0</td>\n",
       "      <td>9118.0</td>\n",
       "      <td>0</td>\n",
       "      <td>9118.0</td>\n",
       "    </tr>\n",
       "    <tr>\n",
       "      <th>4649</th>\n",
       "      <td>1998-01-08</td>\n",
       "      <td>9874.0</td>\n",
       "      <td>9874.0</td>\n",
       "      <td>9495.0</td>\n",
       "      <td>9658.0</td>\n",
       "      <td>0</td>\n",
       "      <td>9658.0</td>\n",
       "    </tr>\n",
       "    <tr>\n",
       "      <th>4650</th>\n",
       "      <td>1998-01-07</td>\n",
       "      <td>10215.0</td>\n",
       "      <td>10215.0</td>\n",
       "      <td>9760.0</td>\n",
       "      <td>9879.0</td>\n",
       "      <td>0</td>\n",
       "      <td>9879.0</td>\n",
       "    </tr>\n",
       "    <tr>\n",
       "      <th>4651</th>\n",
       "      <td>1998-01-06</td>\n",
       "      <td>10607.0</td>\n",
       "      <td>10607.0</td>\n",
       "      <td>10135.0</td>\n",
       "      <td>10185.0</td>\n",
       "      <td>0</td>\n",
       "      <td>10185.0</td>\n",
       "    </tr>\n",
       "    <tr>\n",
       "      <th>4652</th>\n",
       "      <td>1998-01-05</td>\n",
       "      <td>10427.0</td>\n",
       "      <td>10655.0</td>\n",
       "      <td>10427.0</td>\n",
       "      <td>10607.0</td>\n",
       "      <td>0</td>\n",
       "      <td>10607.0</td>\n",
       "    </tr>\n",
       "  </tbody>\n",
       "</table>\n",
       "<p>4653 rows × 7 columns</p>\n",
       "</div>"
      ],
      "text/plain": [
       "            Date     Open     High      Low    Close   Volume  Adj Close\n",
       "0     2016-09-23  58992.0  59131.0  58409.0  58697.0  2809900    58697.0\n",
       "1     2016-09-22  58408.0  59462.0  58408.0  58994.0  3365300    58994.0\n",
       "2     2016-09-21  57736.0  58575.0  57326.0  58394.0  3889700    58394.0\n",
       "3     2016-09-20  57356.0  57902.0  57356.0  57736.0  3001000    57736.0\n",
       "4     2016-09-19  57083.0  58025.0  57083.0  57350.0  2691100    57350.0\n",
       "...          ...      ...      ...      ...      ...      ...        ...\n",
       "4648  1998-01-09   9656.0   9656.0   9118.0   9118.0        0     9118.0\n",
       "4649  1998-01-08   9874.0   9874.0   9495.0   9658.0        0     9658.0\n",
       "4650  1998-01-07  10215.0  10215.0   9760.0   9879.0        0     9879.0\n",
       "4651  1998-01-06  10607.0  10607.0  10135.0  10185.0        0    10185.0\n",
       "4652  1998-01-05  10427.0  10655.0  10427.0  10607.0        0    10607.0\n",
       "\n",
       "[4653 rows x 7 columns]"
      ]
     },
     "execution_count": 12,
     "metadata": {},
     "output_type": "execute_result"
    }
   ],
   "source": [
    "from pandas import read_csv\n",
    "# carregamos a base de dados\n",
    "file = 'https://gitlab.com/lemaufpb/dspy/-/raw/main/data/ibovespa_1998a2016.csv'\n",
    "\n",
    "#fazemos a importação dos dados \n",
    "ibov = pd.read_csv(file, sep=',')\n",
    "ibov"
   ]
  }
 ],
 "metadata": {
  "kernelspec": {
   "display_name": "Python 3",
   "language": "python",
   "name": "python3"
  },
  "language_info": {
   "codemirror_mode": {
    "name": "ipython",
    "version": 3
   },
   "file_extension": ".py",
   "mimetype": "text/x-python",
   "name": "python",
   "nbconvert_exporter": "python",
   "pygments_lexer": "ipython3",
   "version": "3.11.5"
  }
 },
 "nbformat": 4,
 "nbformat_minor": 2
}
