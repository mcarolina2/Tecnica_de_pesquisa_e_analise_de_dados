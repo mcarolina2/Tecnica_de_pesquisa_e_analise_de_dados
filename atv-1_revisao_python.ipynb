{
 "cells": [
  {
   "cell_type": "markdown",
   "metadata": {},
   "source": [
    "### Exercício 1.3 – Conceitos básicos Python"
   ]
  },
  {
   "cell_type": "markdown",
   "metadata": {},
   "source": [
    "#### - Crie um programa Python que peça o nome do usuário e o comprimente com uma mensagem personalizada"
   ]
  },
  {
   "cell_type": "code",
   "execution_count": 1,
   "metadata": {},
   "outputs": [
    {
     "name": "stdout",
     "output_type": "stream",
     "text": [
      "Olá CAROL É UM PRAZER TE VÊ POR AQUI\n"
     ]
    }
   ],
   "source": [
    "nome = input(\"Olá , Qual o seu nome\")\n",
    "\n",
    "print(f'Olá {nome} É UM PRAZER TE VÊ POR AQUI')"
   ]
  },
  {
   "cell_type": "markdown",
   "metadata": {},
   "source": [
    "#### - Crie um programa para checar se um número digitado pelo o usuário é positivo, negativo ou zero."
   ]
  },
  {
   "cell_type": "code",
   "execution_count": 4,
   "metadata": {},
   "outputs": [
    {
     "name": "stdout",
     "output_type": "stream",
     "text": [
      "O número 0.0 é o zero\n"
     ]
    }
   ],
   "source": [
    "num = float(input(\"Olá Digite um número!\"))\n",
    "\n",
    "if num > 0:\n",
    "    print(f'O número {num} é positivo')\n",
    "elif num < 0 : \n",
    "    print(f'O número {num} é Negativo')\n",
    "else:\n",
    "    print(f'O número {num} é o zero')\n",
    "    "
   ]
  },
  {
   "cell_type": "markdown",
   "metadata": {},
   "source": [
    "#### - Faça um programa para checar se um número inteiro digitado pelo o usuário é par ou ímpar."
   ]
  },
  {
   "cell_type": "code",
   "execution_count": 6,
   "metadata": {},
   "outputs": [
    {
     "name": "stdout",
     "output_type": "stream",
     "text": [
      "O número 4 é par\n"
     ]
    }
   ],
   "source": [
    "num = int(input(\"Digite um número inteiro\"))\n",
    "\n",
    "if num % 2 == 0 :\n",
    "    print(f'O número {num} é par')\n",
    "else:\n",
    "    print(f'O número {num} é impar')\n",
    "   "
   ]
  },
  {
   "cell_type": "markdown",
   "metadata": {},
   "source": [
    "#### - Desenvolva um programa Python que realize as quatro operações básicas (+, -, *, /) entre dois números fornecidos pelo usuário."
   ]
  },
  {
   "cell_type": "code",
   "execution_count": 1,
   "metadata": {},
   "outputs": [
    {
     "name": "stdout",
     "output_type": "stream",
     "text": [
      "Você escolheu a o peração somar os numeros 5.0 + 6.0 e o resultado é 11.0\n"
     ]
    }
   ],
   "source": [
    "num1 = float(input(\"Olá Digite um número!\"))\n",
    "num2 = float(input(\"Olá Digite um número!\")) \n",
    "\n",
    "operacao = str(input(\"Qual a operação que você quer realizar ? (1 - somar ; 2- subtrair ; 3- multiplicar ; 4- dividir)\"))\n",
    "if operacao == \"1\" :\n",
    "    soma = num1 + num2 \n",
    "    print(f'Você escolheu a o peração somar os numeros {num1} + {num2} e o resultado é {soma}')\n",
    "elif operacao == \"2\":\n",
    "    subutrair = num1 - num2\n",
    "    print(f'Você escolheu a o peração de subtrair os numeros {num1} - {num2} e o resultado é {subtrair}') \n",
    "elif operacao == \"3\":\n",
    "    multiplicar = num1 * num2 \n",
    "    print(f'Você escolheu a o peração multiplicar os numeros {num1} x {num2} e o resultado é {multiplicar}')\n",
    "elif operacao == \"4\":\n",
    "    dividir = num1/num2 \n",
    "    print(f'Você escolheu a o peração dividir os numeros {num1} / {num2} e o resultado é {dividir}')"
   ]
  },
  {
   "cell_type": "markdown",
   "metadata": {},
   "source": [
    "#### - Faça um programa que pergunte ao usuário quanto é o salário por hora e o total de horas trabalhadas por mês. Calcule e mostre o total do salário no mês.\n"
   ]
  },
  {
   "cell_type": "code",
   "execution_count": 22,
   "metadata": {},
   "outputs": [
    {
     "name": "stdout",
     "output_type": "stream",
     "text": [
      "carol, o salário total que você vai receber no mês de julho é R$1332.0\n"
     ]
    }
   ],
   "source": [
    "nome = str(input(\"Qual o seu nome ?\"))\n",
    "mes = str(input(f\"Qual o mês em que você deseja saber ?\"))\n",
    "salario_por_hora = float(input(f\"{nome},qual o valor do seu salário por hora ?\"))\n",
    "total_de_horas = float(input(f\"{nome}, qual o total de horas que você trabalhou ?\"))\n",
    "\n",
    "salario_total_mes= salario_por_hora * total_de_horas \n",
    "print(f'{nome}, o salário total que você vai receber no mês de {mes} é R${salario_total_mes}')\n"
   ]
  },
  {
   "cell_type": "markdown",
   "metadata": {},
   "source": [
    "#### - . Crie um programa Python que permita ao usuário converter unidades de medida, como temperatura, comprimento e peso. O programa deve oferecer opções para conversão entre diferentes sistemas de unidades, como Celsius para Fahrenheit, metros para polegadas e quilogramas para libras."
   ]
  },
  {
   "cell_type": "code",
   "execution_count": 9,
   "metadata": {},
   "outputs": [
    {
     "name": "stdout",
     "output_type": "stream",
     "text": [
      "Você escolheu a operação de celsius para fahrenheit e o resultado é 86.0\n"
     ]
    }
   ],
   "source": [
    "num1 = float(input(\"Olá Digite um número!\"))\n",
    "\n",
    "\n",
    "operacao = str(input(\"Qual a operação que você quer realizar ? (1 - Celsius->Fahrenheit ; 2- Metros->polegadas ; 3- Quilogramas->libras)\"))\n",
    "\n",
    "if operacao == \"1\" :\n",
    "    conversao_1 = num1 * 1.8 + 32\n",
    "    print(f'Você escolheu a operação de celsius para fahrenheit e o resultado é {conversao_1}')\n",
    "elif operacao == \"2\":\n",
    "    conversao_2 = num1/0.0254\n",
    "    print(f'Você escolheu a operação de metros para polegadas e o resultado é {conversao_2}') \n",
    "elif operacao == \"3\":\n",
    "    conversao_3 = num1 * 2.2046\n",
    "    print(f'Você escolheu a operação quiligramas para libras e o resultado é {conversao_3}')"
   ]
  },
  {
   "cell_type": "markdown",
   "metadata": {},
   "source": [
    "#### - Faça um programa para loja de tintas. O programa deverá pedir o tamanho em metros quadrados da área a ser pintada. Considere que a cobertura da tinta é de 1 litro para cada 3 metros quadrados e que a tinta é vendida em latas de 18 litros, que custam R$ 80,00 cada. Informe ao usuário a quantidade de latas de tinta a serem compradas e o preço total."
   ]
  },
  {
   "cell_type": "code",
   "execution_count": 12,
   "metadata": {},
   "outputs": [
    {
     "name": "stdout",
     "output_type": "stream",
     "text": [
      "o total de latas é 1 e o valor é de 80.00\n"
     ]
    }
   ],
   "source": [
    "import math\n",
    "tamanho_em_metros =float(input(\"Qual o tamanho em metros quadrados da área a ser pintada? \"))\n",
    "litros_de_tinta = tamanho_em_metros / 3\n",
    "\n",
    "tinta_a_ser_vendida=  math.ceil(litros_de_tinta / 18)\n",
    "\n",
    "total= tinta_a_ser_vendida * 80\n",
    "\n",
    "print(f\"o total de latas é {tinta_a_ser_vendida} e o valor é de {total:.2f}\")\n"
   ]
  },
  {
   "cell_type": "markdown",
   "metadata": {},
   "source": [
    "#### - Faça outro programa para loja de tintas. O programa deverá pedir o tamanho em metros quadrados da área a ser pintada. Considere que a cobertura da tinta é de 1 litro para cada 6 metros quadrados e que a tinta é vendida em latas de 18 litros, que custam R$ 80,00 ou em galões de 4 litros, que custam R$ 25,00.Informe ao usuário as quantidades de tinta a serem compradas e os respectivos preços em 3 situações:\n",
    "##### (a) comprar apenas latas de 18 litros;\n",
    "##### (b) comprar apenas galões de 4 litros;\n",
    "##### (c) mistrurar latas e galões."
   ]
  },
  {
   "cell_type": "code",
   "execution_count": 13,
   "metadata": {},
   "outputs": [
    {
     "name": "stdout",
     "output_type": "stream",
     "text": [
      "(a) Comprar apenas latas de 18 litros:\n",
      "    Quantidade de latas: 1\n",
      "    Preço total: R$ 80.00\n",
      "(b) Comprar apenas galões de 4 litros:\n",
      "    Quantidade de galões: 1\n",
      "    Preço total: R$ 25.00\n",
      "(c) Misturar latas e galões:\n",
      "    Quantidade de latas: 0\n",
      "    Quantidade de galões: 1\n",
      "    Preço total: R$ 25.00\n"
     ]
    }
   ],
   "source": [
    "import math\n",
    "\n",
    "\n",
    "tamanho_area = float(input(\"Qual o tamanho em metros quadrados da área a ser pintada? \"))\n",
    "\n",
    "litros_necessarios = tamanho_area / 6\n",
    "latas_necessarias = math.ceil(litros_necessarios / 18)\n",
    "preco_latas = latas_necessarias * 80\n",
    "\n",
    "\n",
    "galoes_necessarios = math.ceil(litros_necessarios / 4)\n",
    "preco_galoes = galoes_necessarios * 25\n",
    "\n",
    "latas_mistura = int(litros_necessarios / 18)\n",
    "litros_restantes = litros_necessarios - (latas_mistura * 18)\n",
    "galoes_mistura = math.ceil(litros_restantes / 4)\n",
    "preco_mistura = (latas_mistura * 80) + (galoes_mistura * 25)\n",
    "\n",
    "\n",
    "print(f\"(a) Comprar apenas latas de 18 litros:\")\n",
    "print(f\"    Quantidade de latas: {latas_necessarias}\")\n",
    "print(f\"    Preço total: R$ {preco_latas:.2f}\")\n",
    "\n",
    "print(f\"(b) Comprar apenas galões de 4 litros:\")\n",
    "print(f\"    Quantidade de galões: {galoes_necessarios}\")\n",
    "print(f\"    Preço total: R$ {preco_galoes:.2f}\")\n",
    "\n",
    "print(f\"(c) Misturar latas e galões:\")\n",
    "print(f\"    Quantidade de latas: {latas_mistura}\")\n",
    "print(f\"    Quantidade de galões: {galoes_mistura}\")\n",
    "print(f\"    Preço total: R$ {preco_mistura:.2f}\")"
   ]
  },
  {
   "cell_type": "markdown",
   "metadata": {},
   "source": [
    "##### - Faça um programa de matemática financeira, para simular o valor de uma prestação do veículo, com asseguintes entradas: 1) valor do produto; 2) Entrada; 3) Número de prestações a.m. para pagamento do saldo; 4) taxa de juros a.m. Para sua realização, assuma um regime de juros composto."
   ]
  },
  {
   "cell_type": "code",
   "execution_count": 14,
   "metadata": {},
   "outputs": [
    {
     "name": "stdout",
     "output_type": "stream",
     "text": [
      "O valor da prestação mensal será: R$ -3000.00\n"
     ]
    }
   ],
   "source": [
    "def calcular_prestacao(valor_produto, entrada, num_prestacoes, taxa_juros):\n",
    "    \n",
    "    saldo_devedor = valor_produto - entrada\n",
    "    \n",
    "  \n",
    "    taxa_juros_decimal = taxa_juros / 100\n",
    "    prestacao = saldo_devedor * (taxa_juros_decimal * (1 + taxa_juros_decimal) ** num_prestacoes) / ((1 + taxa_juros_decimal) ** num_prestacoes - 1)\n",
    "    return prestacao\n",
    "\n",
    "\n",
    "valor_produto = float(input(\"Digite o valor do produto: \"))\n",
    "entrada = float(input(\"Digite o valor da entrada: \"))\n",
    "num_prestacoes = int(input(\"Digite o número de prestações: \"))\n",
    "taxa_juros = float(input(\"Digite a taxa de juros mensal (em %): \"))\n",
    "\n",
    "\n",
    "prestacao = calcular_prestacao(valor_produto, entrada, num_prestacoes, taxa_juros)\n",
    "\n",
    "\n",
    "print(f\"O valor da prestação mensal será: R$ {prestacao:.2f}\")"
   ]
  },
  {
   "cell_type": "markdown",
   "metadata": {},
   "source": [
    "#### - Desenvolva um programa Python que implemente um jogo de adivinhação. O programa deve gerar um número aleatório entre um intervalo definido e solicitar ao usuário que adivinhe o número. O programa deve fornecer dicas ao usuário, como se o seu palpite for maior, menor ou igual ao número aleatório"
   ]
  }
 ],
 "metadata": {
  "kernelspec": {
   "display_name": "base",
   "language": "python",
   "name": "python3"
  },
  "language_info": {
   "codemirror_mode": {
    "name": "ipython",
    "version": 3
   },
   "file_extension": ".py",
   "mimetype": "text/x-python",
   "name": "python",
   "nbconvert_exporter": "python",
   "pygments_lexer": "ipython3",
   "version": "3.11.5"
  }
 },
 "nbformat": 4,
 "nbformat_minor": 2
}
